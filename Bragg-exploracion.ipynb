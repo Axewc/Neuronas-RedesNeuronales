{
 "cells": [
  {
   "cell_type": "markdown",
   "metadata": {},
   "source": [
    "# Importar Librerías Necesarias\n",
    "Importar las librerías requeridas como pandas y numpy para la manipulación de datos."
   ]
  },
  {
   "cell_type": "code",
   "execution_count": null,
   "metadata": {},
   "outputs": [],
   "source": [
    "# Importar las librerías necesarias\n",
    "import numpy as np\n",
    "import pandas as pd\n",
    "from tensorflow.keras.models import Sequential\n",
    "from tensorflow.keras.layers import Dense\n",
    "from tensorflow.keras.optimizers import Adam\n",
    "from tensorflow.keras.callbacks import EarlyStopping\n",
    "from keras_tuner.tuners import Hyperband\n",
    "from keras_tuner.engine.hyperparameters import HyperParameters\n",
    "from keras import callbacks\n",
    "from sklearn.model_selection import KFold\n",
    "import matplotlib.pyplot as plt\n",
    "import seaborn as sns"
   ]
  },
  {
   "cell_type": "markdown",
   "metadata": {},
   "source": [
    "# Cargar el Archivo CSV\n",
    "Usar pandas para cargar el archivo `original_noise10_Train_set.csv` en un DataFrame."
   ]
  },
  {
   "cell_type": "code",
   "execution_count": null,
   "metadata": {},
   "outputs": [],
   "source": [
    "# Cargar el Archivo CSV\n",
    "data_path = \"original_noise10_Train_set.csv\"  # Ruta del archivo CSV\n",
    "try:\n",
    "    df = pd.read_csv(data_path)  # Cargar el archivo CSV en un DataFrame\n",
    "    print(\"Archivo cargado correctamente.\")\n",
    "    print(df.head())  # Mostrar las primeras filas del DataFrame\n",
    "except FileNotFoundError:\n",
    "    print(f\"Error: El archivo '{data_path}' no se encontró.\")\n",
    "except pd.errors.EmptyDataError:\n",
    "    print(f\"Error: El archivo '{data_path}' está vacío.\")\n",
    "except Exception as e:\n",
    "    print(f\"Error al cargar el archivo: {e}\")"
   ]
  },
  {
   "cell_type": "markdown",
   "metadata": {},
   "source": [
    "# Verificar la Carga de Datos\n",
    "Imprimir las primeras filas del DataFrame con el método head() para confirmar que los datos se cargaron correctamente."
   ]
  },
  {
   "cell_type": "code",
   "execution_count": null,
   "metadata": {},
   "outputs": [],
   "source": [
    "# Verificar la Carga de Datos\n",
    "try:\n",
    "    # Imprimir las primeras filas del DataFrame para verificar la carga\n",
    "    print(\"Primeras filas del DataFrame:\")\n",
    "    print(df.head())\n",
    "except NameError:\n",
    "    print(\"Error: El DataFrame 'df' no está definido. Asegúrate de haber cargado los datos correctamente.\")"
   ]
  },
  {
   "cell_type": "markdown",
   "metadata": {},
   "source": [
    "# Explorar el Conjunto de Datos\n",
    "Mostrar información básica del DataFrame con info() y describir las estadísticas con describe()."
   ]
  },
  {
   "cell_type": "code",
   "execution_count": null,
   "metadata": {},
   "outputs": [],
   "source": [
    "# Explorar el Conjunto de Datos\n",
    "try:\n",
    "    # Mostrar información básica del DataFrame\n",
    "    print(\"Información del DataFrame:\")\n",
    "    df.info()\n",
    "    \n",
    "    # Mostrar estadísticas descriptivas del DataFrame\n",
    "    print(\"\\nEstadísticas descriptivas del DataFrame:\")\n",
    "    print(df.describe())\n",
    "except NameError:\n",
    "    print(\"Error: El DataFrame 'df' no está definido. Asegúrate de haber cargado los datos correctamente.\")"
   ]
  }
 ],
 "metadata": {
  "language_info": {
   "name": "python"
  }
 },
 "nbformat": 4,
 "nbformat_minor": 2
}
